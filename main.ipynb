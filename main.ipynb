{
  "nbformat": 4,
  "nbformat_minor": 0,
  "metadata": {
    "colab": {
      "name": "mnist and anoclass",
      "provenance": [],
      "collapsed_sections": []
    },
    "kernelspec": {
      "name": "python3",
      "display_name": "Python 3"
    }
  },
  "cells": [
    {
      "cell_type": "markdown",
      "metadata": {
        "id": "j8TIGsmtji-y"
      },
      "source": [
        "**Anomaly Infused Classification**\n",
        "\n",
        "This notebook tests an idea of mine: Can you use anomaly detection to improve a classification. If this works (and it seems like it does, currently at ~2 sigma), you can improve any classification network (at least like here with some symmetry in the data (aka convolutions, gnns), but I guess this should also work without) without any other input.\n",
        "\n",
        "To do this, I use an anomaly detection algorithm I invented (and call oneoff networks), to define anomality for each point on the image. Afterwards I just add this anomality to the input of a convolutional network and compare the result to the same network trained the same way, but without a second input."
      ]
    },
    {
      "cell_type": "markdown",
      "metadata": {
        "id": "ZzPU36WEDsqa"
      },
      "source": [
        "The first part is the comparison network, so just a copy of https://keras.io/examples/vision/mnist_convnet/\n",
        "\n",
        "I dont change much, as I guess you can assume that the usual keras tutorial is well optimized. This suggests that the final result (anomaly infused network) is not as good as it could be."
      ]
    },
    {
      "cell_type": "code",
      "metadata": {
        "id": "HRhV-0piDPyl"
      },
      "source": [
        "import numpy as np\n",
        "from tensorflow import keras\n",
        "from tensorflow.keras import layers"
      ],
      "execution_count": null,
      "outputs": []
    },
    {
      "cell_type": "code",
      "metadata": {
        "colab": {
          "base_uri": "https://localhost:8080/"
        },
        "id": "OpkCj5gZDZxP",
        "outputId": "8ccab70d-4da5-4e42-9ea6-5b1560fff604"
      },
      "source": [
        "# Model / data parameters\n",
        "num_classes = 10\n",
        "input_shape = (28, 28, 1)\n",
        "\n",
        "# the data, split between train and test sets\n",
        "(x_train, y_train), (x_test, y_test) = keras.datasets.mnist.load_data()\n",
        "\n",
        "# Scale images to the [0, 1] range\n",
        "x_train = x_train.astype(\"float32\") / 255\n",
        "x_test = x_test.astype(\"float32\") / 255\n",
        "# Make sure images have shape (28, 28, 1)\n",
        "x_train = np.expand_dims(x_train, -1)\n",
        "x_test = np.expand_dims(x_test, -1)\n",
        "print(\"x_train shape:\", x_train.shape)\n",
        "print(x_train.shape[0], \"train samples\")\n",
        "print(x_test.shape[0], \"test samples\")\n",
        "\n",
        "\n",
        "# convert class vectors to binary class matrices\n",
        "y_train = keras.utils.to_categorical(y_train, num_classes)\n",
        "y_test = keras.utils.to_categorical(y_test, num_classes)"
      ],
      "execution_count": null,
      "outputs": [
        {
          "output_type": "stream",
          "text": [
            "Downloading data from https://storage.googleapis.com/tensorflow/tf-keras-datasets/mnist.npz\n",
            "11493376/11490434 [==============================] - 0s 0us/step\n",
            "x_train shape: (60000, 28, 28, 1)\n",
            "60000 train samples\n",
            "10000 test samples\n"
          ],
          "name": "stdout"
        }
      ]
    },
    {
      "cell_type": "code",
      "metadata": {
        "colab": {
          "base_uri": "https://localhost:8080/"
        },
        "id": "BCqAHeY1DbwQ",
        "outputId": "84c9446b-abbc-4a46-a2a4-f0e081ba5537"
      },
      "source": [
        "model = keras.Sequential(\n",
        "    [\n",
        "        keras.Input(shape=input_shape),\n",
        "        layers.Conv2D(32, kernel_size=(3, 3), activation=\"relu\"),\n",
        "        layers.MaxPooling2D(pool_size=(2, 2)),\n",
        "        layers.Conv2D(64, kernel_size=(3, 3), activation=\"relu\"),\n",
        "        layers.MaxPooling2D(pool_size=(2, 2)),\n",
        "        layers.Flatten(),\n",
        "        layers.Dropout(0.5),\n",
        "        layers.Dense(num_classes, activation=\"softmax\"),\n",
        "    ]\n",
        ")\n",
        "\n",
        "model.summary()"
      ],
      "execution_count": null,
      "outputs": [
        {
          "output_type": "stream",
          "text": [
            "Model: \"sequential_9\"\n",
            "_________________________________________________________________\n",
            "Layer (type)                 Output Shape              Param #   \n",
            "=================================================================\n",
            "conv2d_28 (Conv2D)           (None, 26, 26, 32)        320       \n",
            "_________________________________________________________________\n",
            "max_pooling2d_6 (MaxPooling2 (None, 13, 13, 32)        0         \n",
            "_________________________________________________________________\n",
            "conv2d_29 (Conv2D)           (None, 11, 11, 64)        18496     \n",
            "_________________________________________________________________\n",
            "max_pooling2d_7 (MaxPooling2 (None, 5, 5, 64)          0         \n",
            "_________________________________________________________________\n",
            "flatten_3 (Flatten)          (None, 1600)              0         \n",
            "_________________________________________________________________\n",
            "dropout_3 (Dropout)          (None, 1600)              0         \n",
            "_________________________________________________________________\n",
            "dense_3 (Dense)              (None, 10)                16010     \n",
            "=================================================================\n",
            "Total params: 34,826\n",
            "Trainable params: 34,826\n",
            "Non-trainable params: 0\n",
            "_________________________________________________________________\n"
          ],
          "name": "stdout"
        }
      ]
    },
    {
      "cell_type": "code",
      "metadata": {
        "colab": {
          "base_uri": "https://localhost:8080/"
        },
        "id": "csFK8F1yDnFR",
        "outputId": "b7cb24e2-3b9d-41b0-bdf0-4b91b9afe068"
      },
      "source": [
        "batch_size = 128\n",
        "epochs = 15\n",
        "\n",
        "model.compile(loss=\"categorical_crossentropy\", optimizer=\"adam\", metrics=[\"accuracy\"])\n",
        "\n",
        "hn=model.fit(x_train, y_train, batch_size=batch_size, epochs=epochs, validation_split=0.1)"
      ],
      "execution_count": null,
      "outputs": [
        {
          "output_type": "stream",
          "text": [
            "Epoch 1/15\n",
            "422/422 [==============================] - 40s 92ms/step - loss: 0.7873 - accuracy: 0.7582 - val_loss: 0.0821 - val_accuracy: 0.9780\n",
            "Epoch 2/15\n",
            "422/422 [==============================] - 39s 93ms/step - loss: 0.1242 - accuracy: 0.9628 - val_loss: 0.0572 - val_accuracy: 0.9848\n",
            "Epoch 3/15\n",
            "422/422 [==============================] - 39s 92ms/step - loss: 0.0926 - accuracy: 0.9716 - val_loss: 0.0481 - val_accuracy: 0.9867\n",
            "Epoch 4/15\n",
            "422/422 [==============================] - 39s 92ms/step - loss: 0.0745 - accuracy: 0.9763 - val_loss: 0.0447 - val_accuracy: 0.9885\n",
            "Epoch 5/15\n",
            "422/422 [==============================] - 39s 92ms/step - loss: 0.0672 - accuracy: 0.9791 - val_loss: 0.0396 - val_accuracy: 0.9885\n",
            "Epoch 6/15\n",
            "422/422 [==============================] - 39s 92ms/step - loss: 0.0590 - accuracy: 0.9821 - val_loss: 0.0391 - val_accuracy: 0.9887\n",
            "Epoch 7/15\n",
            "422/422 [==============================] - 39s 92ms/step - loss: 0.0531 - accuracy: 0.9833 - val_loss: 0.0387 - val_accuracy: 0.9890\n",
            "Epoch 8/15\n",
            "422/422 [==============================] - 39s 92ms/step - loss: 0.0515 - accuracy: 0.9838 - val_loss: 0.0389 - val_accuracy: 0.9895\n",
            "Epoch 9/15\n",
            "422/422 [==============================] - 39s 92ms/step - loss: 0.0497 - accuracy: 0.9841 - val_loss: 0.0360 - val_accuracy: 0.9907\n",
            "Epoch 10/15\n",
            "422/422 [==============================] - 39s 92ms/step - loss: 0.0434 - accuracy: 0.9860 - val_loss: 0.0343 - val_accuracy: 0.9897\n",
            "Epoch 11/15\n",
            "422/422 [==============================] - 39s 92ms/step - loss: 0.0433 - accuracy: 0.9864 - val_loss: 0.0317 - val_accuracy: 0.9913\n",
            "Epoch 12/15\n",
            "422/422 [==============================] - 39s 91ms/step - loss: 0.0382 - accuracy: 0.9877 - val_loss: 0.0305 - val_accuracy: 0.9920\n",
            "Epoch 13/15\n",
            "422/422 [==============================] - 39s 92ms/step - loss: 0.0367 - accuracy: 0.9882 - val_loss: 0.0324 - val_accuracy: 0.9922\n",
            "Epoch 14/15\n",
            "422/422 [==============================] - 39s 92ms/step - loss: 0.0386 - accuracy: 0.9870 - val_loss: 0.0301 - val_accuracy: 0.9905\n",
            "Epoch 15/15\n",
            "422/422 [==============================] - 39s 92ms/step - loss: 0.0343 - accuracy: 0.9889 - val_loss: 0.0311 - val_accuracy: 0.9910\n"
          ],
          "name": "stdout"
        }
      ]
    },
    {
      "cell_type": "code",
      "metadata": {
        "colab": {
          "base_uri": "https://localhost:8080/"
        },
        "id": "7v2bZwLMDoZ9",
        "outputId": "5af717de-f5fd-42b0-ad79-2f3ad3405315"
      },
      "source": [
        "score = model.evaluate(x_test, y_test, verbose=0)\n",
        "print(\"Test loss:\", score[0])\n",
        "print(\"Test accuracy:\", score[1])"
      ],
      "execution_count": null,
      "outputs": [
        {
          "output_type": "stream",
          "text": [
            "Test loss: 0.026425588876008987\n",
            "Test accuracy: 0.9900000095367432\n"
          ],
          "name": "stdout"
        }
      ]
    },
    {
      "cell_type": "markdown",
      "metadata": {
        "id": "85VmYiomnEyZ"
      },
      "source": [
        "**now for the oneoff network**\n",
        "here I train an image to image network resulting in 1 while removing biases"
      ]
    },
    {
      "cell_type": "code",
      "metadata": {
        "colab": {
          "base_uri": "https://localhost:8080/"
        },
        "id": "cguVrdVrEtLl",
        "outputId": "9628395d-8efa-4eef-a741-935125c56b56"
      },
      "source": [
        "modeloo = keras.Sequential(\n",
        "    [\n",
        "        keras.Input(shape=input_shape),\n",
        "        layers.Conv2D(32, kernel_size=(7, 7), activation=\"relu\",padding=\"same\",use_bias=False),\n",
        "        #layers.MaxPooling2D(pool_size=(2, 2)),\n",
        "        layers.Conv2D(64, kernel_size=(4, 4), activation=\"relu\",padding=\"same\",use_bias=False),\n",
        "        layers.Conv2D(16, kernel_size=(4, 4), activation=\"relu\",padding=\"same\",use_bias=False),\n",
        "        layers.Conv2D(4, kernel_size=(2, 2), activation=\"relu\",padding=\"same\",use_bias=False),\n",
        "        #layers.MaxPooling2D(pool_size=(2, 2)),\n",
        "        layers.Conv2D(1,kernel_size=(1,1),activation=\"linear\",padding=\"same\",use_bias=False),\n",
        "    ]\n",
        ")\n",
        "\n",
        "modeloo.summary()"
      ],
      "execution_count": null,
      "outputs": [
        {
          "output_type": "stream",
          "text": [
            "Model: \"sequential_6\"\n",
            "_________________________________________________________________\n",
            "Layer (type)                 Output Shape              Param #   \n",
            "=================================================================\n",
            "conv2d_19 (Conv2D)           (None, 28, 28, 32)        1568      \n",
            "_________________________________________________________________\n",
            "conv2d_20 (Conv2D)           (None, 28, 28, 64)        32768     \n",
            "_________________________________________________________________\n",
            "conv2d_21 (Conv2D)           (None, 28, 28, 16)        16384     \n",
            "_________________________________________________________________\n",
            "conv2d_22 (Conv2D)           (None, 28, 28, 4)         256       \n",
            "_________________________________________________________________\n",
            "conv2d_23 (Conv2D)           (None, 28, 28, 1)         4         \n",
            "=================================================================\n",
            "Total params: 50,980\n",
            "Trainable params: 50,980\n",
            "Non-trainable params: 0\n",
            "_________________________________________________________________\n"
          ],
          "name": "stdout"
        }
      ]
    },
    {
      "cell_type": "code",
      "metadata": {
        "colab": {
          "base_uri": "https://localhost:8080/"
        },
        "id": "9qbpq3qAEfy9",
        "outputId": "06f370af-c7ec-4c08-af4d-ccc757d50ce1"
      },
      "source": [
        "batch_size = 128\n",
        "epochs = 5\n",
        "\n",
        "modeloo.compile(loss=\"mse\", optimizer=\"adam\", metrics=[])\n",
        "\n",
        "modeloo.fit(x_train, np.ones_like(x_train), batch_size=batch_size, epochs=epochs, validation_split=0.1)"
      ],
      "execution_count": null,
      "outputs": [
        {
          "output_type": "stream",
          "text": [
            "Epoch 1/5\n",
            "422/422 [==============================] - 585s 1s/step - loss: 0.4038 - val_loss: 0.1555\n",
            "Epoch 2/5\n",
            "422/422 [==============================] - 586s 1s/step - loss: 0.1536 - val_loss: 0.1439\n",
            "Epoch 3/5\n",
            "422/422 [==============================] - 593s 1s/step - loss: 0.1454 - val_loss: 0.1413\n",
            "Epoch 4/5\n",
            "422/422 [==============================] - 595s 1s/step - loss: 0.1428 - val_loss: 0.1400\n",
            "Epoch 5/5\n",
            "422/422 [==============================] - 593s 1s/step - loss: 0.1425 - val_loss: 0.1393\n"
          ],
          "name": "stdout"
        },
        {
          "output_type": "execute_result",
          "data": {
            "text/plain": [
              "<tensorflow.python.keras.callbacks.History at 0x7f28f8bfb390>"
            ]
          },
          "metadata": {
            "tags": []
          },
          "execution_count": 19
        }
      ]
    },
    {
      "cell_type": "code",
      "metadata": {
        "colab": {
          "base_uri": "https://localhost:8080/"
        },
        "id": "I_w-qbSGGL-e",
        "outputId": "adf8075f-f224-4944-e54a-e2c007ab838c"
      },
      "source": [
        "oo=modeloo.predict(x_train)\n",
        "oot=modeloo.predict(x_test)\n",
        "print(oo.shape)\n",
        "of=oo.flatten()\n",
        "print(of.shape)"
      ],
      "execution_count": null,
      "outputs": [
        {
          "output_type": "stream",
          "text": [
            "(60000, 28, 28, 1)\n",
            "(47040000,)\n"
          ],
          "name": "stdout"
        }
      ]
    },
    {
      "cell_type": "code",
      "metadata": {
        "colab": {
          "base_uri": "https://localhost:8080/",
          "height": 276
        },
        "id": "S4yiye27P2te",
        "outputId": "df86a59c-717d-4b8b-f7a9-84ba0e72d5c0"
      },
      "source": [
        "import matplotlib.pyplot as plt\n",
        "plt.hist(of,bins=50)\n",
        "plt.show()"
      ],
      "execution_count": null,
      "outputs": [
        {
          "output_type": "display_data",
          "data": {
            "image/png": "[encoded data removed]",
            "text/plain": [
              "<Figure size 432x288 with 1 Axes>"
            ]
          },
          "metadata": {
            "tags": [],
            "needs_background": "light"
          }
        }
      ]
    },
    {
      "cell_type": "code",
      "metadata": {
        "colab": {
          "base_uri": "https://localhost:8080/",
          "height": 265
        },
        "id": "oIi8y6fMP5LC",
        "outputId": "970d5bca-c851-4ba5-eb49-1414b0f7b58f"
      },
      "source": [
        "delta=np.abs(of-1)\n",
        "plt.hist(delta,bins=50)\n",
        "plt.yscale(\"log\",nonposy=\"clip\")\n",
        "plt.show()"
      ],
      "execution_count": null,
      "outputs": [
        {
          "output_type": "display_data",
          "data": {
            "image/png": "[encoded data removed]",
            "text/plain": [
              "<Figure size 432x288 with 1 Axes>"
            ]
          },
          "metadata": {
            "tags": [],
            "needs_background": "light"
          }
        }
      ]
    },
    {
      "cell_type": "code",
      "metadata": {
        "colab": {
          "base_uri": "https://localhost:8080/"
        },
        "id": "YYJxudsaU5Tu",
        "outputId": "77548fca-417c-4de1-baad-6b00a4f13d81"
      },
      "source": [
        "#some statistics processing\n",
        "print(np.mean(delta))\n",
        "print(np.std(delta))\n",
        "print(np.max(delta))"
      ],
      "execution_count": null,
      "outputs": [
        {
          "output_type": "stream",
          "text": [
            "0.17809592\n",
            "0.33107832\n",
            "2.773085\n"
          ],
          "name": "stdout"
        }
      ]
    },
    {
      "cell_type": "code",
      "metadata": {
        "id": "1Oyv0dMLVNzf"
      },
      "source": [
        "stat_mean=np.mean(delta)\n",
        "stat_sigma=np.std(delta)"
      ],
      "execution_count": null,
      "outputs": []
    },
    {
      "cell_type": "code",
      "metadata": {
        "id": "X70ied0ZVXHj"
      },
      "source": [
        "def corr(q):\n",
        "  return np.exp(0.5*(np.abs(q-1)-stat_mean)/(stat_sigma))"
      ],
      "execution_count": null,
      "outputs": []
    },
    {
      "cell_type": "code",
      "metadata": {
        "colab": {
          "base_uri": "https://localhost:8080/"
        },
        "id": "QsAExHvZVY3Q",
        "outputId": "9b241e94-82cd-4763-cab1-badda766b435"
      },
      "source": [
        "print(corr(np.max(delta+1)))\n",
        "print(corr(1))"
      ],
      "execution_count": null,
      "outputs": [
        {
          "output_type": "stream",
          "text": [
            "50.349865548992256\n",
            "0.764171200435547\n"
          ],
          "name": "stdout"
        }
      ]
    },
    {
      "cell_type": "code",
      "metadata": {
        "id": "fn63Zy7CV0oG"
      },
      "source": [
        "oc=corr(oo)\n",
        "oct=corr(oot)\n",
        "oct-=np.mean(oc)\n",
        "oct/=np.std(oct)\n",
        "oc-=np.mean(oc)\n",
        "oc/=np.std(oc)"
      ],
      "execution_count": null,
      "outputs": []
    },
    {
      "cell_type": "code",
      "metadata": {
        "colab": {
          "base_uri": "https://localhost:8080/"
        },
        "id": "g6elf9A8V-ML",
        "outputId": "c29122e5-504c-414a-9a44-00d1cc968233"
      },
      "source": [
        "print(oc.shape)\n",
        "print(x_train.shape)"
      ],
      "execution_count": null,
      "outputs": [
        {
          "output_type": "stream",
          "text": [
            "(60000, 28, 28, 1)\n",
            "(60000, 28, 28, 1)\n"
          ],
          "name": "stdout"
        }
      ]
    },
    {
      "cell_type": "code",
      "metadata": {
        "colab": {
          "base_uri": "https://localhost:8080/"
        },
        "id": "O3TTcv4iiVWQ",
        "outputId": "4d90a0ce-583f-4b90-8771-47f1951eb2ec"
      },
      "source": [
        "print(np.mean(oct))\n",
        "print(np.std(oct))"
      ],
      "execution_count": null,
      "outputs": [
        {
          "output_type": "stream",
          "text": [
            "-0.0012162012\n",
            "1.0000002\n"
          ],
          "name": "stdout"
        }
      ]
    },
    {
      "cell_type": "markdown",
      "metadata": {
        "id": "9xykqKsXngPG"
      },
      "source": [
        "**Now lets use this for anomaly infused training**"
      ]
    },
    {
      "cell_type": "code",
      "metadata": {
        "colab": {
          "base_uri": "https://localhost:8080/",
          "height": 274
        },
        "id": "dqqzki9PWRPm",
        "outputId": "04bbc924-377d-4f1c-9d66-60faadcb8bf8"
      },
      "source": [
        "#at first concat this as new inputs\n",
        "cc=np.concatenate((x_train,oc),axis=-1)\n",
        "print(cc.shape)\n",
        "cct=np.concatenate((x_test,oct),axis=-1)\n",
        "print(cct.shape)"
      ],
      "execution_count": 6,
      "outputs": [
        {
          "output_type": "error",
          "ename": "NameError",
          "evalue": "ignored",
          "traceback": [
            "\u001b[0;31m---------------------------------------------------------------------------\u001b[0m",
            "\u001b[0;31mNameError\u001b[0m                                 Traceback (most recent call last)",
            "\u001b[0;32m<ipython-input-6-49eff9a679c9>\u001b[0m in \u001b[0;36m<module>\u001b[0;34m()\u001b[0m\n\u001b[1;32m      1\u001b[0m \u001b[0;31m#at first concat this as new inputs\u001b[0m\u001b[0;34m\u001b[0m\u001b[0;34m\u001b[0m\u001b[0;34m\u001b[0m\u001b[0m\n\u001b[0;32m----> 2\u001b[0;31m \u001b[0mcc\u001b[0m\u001b[0;34m=\u001b[0m\u001b[0mnp\u001b[0m\u001b[0;34m.\u001b[0m\u001b[0mconcatenate\u001b[0m\u001b[0;34m(\u001b[0m\u001b[0;34m(\u001b[0m\u001b[0mx_train\u001b[0m\u001b[0;34m,\u001b[0m\u001b[0moc\u001b[0m\u001b[0;34m)\u001b[0m\u001b[0;34m,\u001b[0m\u001b[0maxis\u001b[0m\u001b[0;34m=\u001b[0m\u001b[0;34m-\u001b[0m\u001b[0;36m1\u001b[0m\u001b[0;34m)\u001b[0m\u001b[0;34m\u001b[0m\u001b[0;34m\u001b[0m\u001b[0m\n\u001b[0m\u001b[1;32m      3\u001b[0m \u001b[0mprint\u001b[0m\u001b[0;34m(\u001b[0m\u001b[0mcc\u001b[0m\u001b[0;34m.\u001b[0m\u001b[0mshape\u001b[0m\u001b[0;34m)\u001b[0m\u001b[0;34m\u001b[0m\u001b[0;34m\u001b[0m\u001b[0m\n\u001b[1;32m      4\u001b[0m \u001b[0mcct\u001b[0m\u001b[0;34m=\u001b[0m\u001b[0mnp\u001b[0m\u001b[0;34m.\u001b[0m\u001b[0mconcatenate\u001b[0m\u001b[0;34m(\u001b[0m\u001b[0;34m(\u001b[0m\u001b[0mx_test\u001b[0m\u001b[0;34m,\u001b[0m\u001b[0moct\u001b[0m\u001b[0;34m)\u001b[0m\u001b[0;34m,\u001b[0m\u001b[0maxis\u001b[0m\u001b[0;34m=\u001b[0m\u001b[0;34m-\u001b[0m\u001b[0;36m1\u001b[0m\u001b[0;34m)\u001b[0m\u001b[0;34m\u001b[0m\u001b[0;34m\u001b[0m\u001b[0m\n\u001b[1;32m      5\u001b[0m \u001b[0mprint\u001b[0m\u001b[0;34m(\u001b[0m\u001b[0mcct\u001b[0m\u001b[0;34m.\u001b[0m\u001b[0mshape\u001b[0m\u001b[0;34m)\u001b[0m\u001b[0;34m\u001b[0m\u001b[0;34m\u001b[0m\u001b[0m\n",
            "\u001b[0;31mNameError\u001b[0m: name 'x_train' is not defined"
          ]
        }
      ]
    },
    {
      "cell_type": "code",
      "metadata": {
        "colab": {
          "base_uri": "https://localhost:8080/"
        },
        "id": "VbF-NpuJWrOp",
        "outputId": "97291914-412b-4bcd-db16-26735e170b64"
      },
      "source": [
        "modelc = keras.Sequential(\n",
        "    [\n",
        "        keras.Input(shape=cc.shape[1:]),\n",
        "        layers.Conv2D(32, kernel_size=(3, 3), activation=\"relu\"),\n",
        "        layers.MaxPooling2D(pool_size=(2, 2)),\n",
        "        layers.Conv2D(64, kernel_size=(3, 3), activation=\"relu\"),\n",
        "        layers.MaxPooling2D(pool_size=(2, 2)),\n",
        "        layers.Flatten(),\n",
        "        layers.Dropout(0.5),\n",
        "        layers.Dense(num_classes, activation=\"softmax\"),\n",
        "    ]\n",
        ")\n",
        "\n",
        "modelc.summary()"
      ],
      "execution_count": null,
      "outputs": [
        {
          "output_type": "stream",
          "text": [
            "Model: \"sequential_10\"\n",
            "_________________________________________________________________\n",
            "Layer (type)                 Output Shape              Param #   \n",
            "=================================================================\n",
            "conv2d_30 (Conv2D)           (None, 26, 26, 32)        608       \n",
            "_________________________________________________________________\n",
            "max_pooling2d_8 (MaxPooling2 (None, 13, 13, 32)        0         \n",
            "_________________________________________________________________\n",
            "conv2d_31 (Conv2D)           (None, 11, 11, 64)        18496     \n",
            "_________________________________________________________________\n",
            "max_pooling2d_9 (MaxPooling2 (None, 5, 5, 64)          0         \n",
            "_________________________________________________________________\n",
            "flatten_4 (Flatten)          (None, 1600)              0         \n",
            "_________________________________________________________________\n",
            "dropout_4 (Dropout)          (None, 1600)              0         \n",
            "_________________________________________________________________\n",
            "dense_4 (Dense)              (None, 10)                16010     \n",
            "=================================================================\n",
            "Total params: 35,114\n",
            "Trainable params: 35,114\n",
            "Non-trainable params: 0\n",
            "_________________________________________________________________\n"
          ],
          "name": "stdout"
        }
      ]
    },
    {
      "cell_type": "code",
      "metadata": {
        "colab": {
          "base_uri": "https://localhost:8080/"
        },
        "id": "uaOldK9NWtZM",
        "outputId": "14450636-8a05-4ec0-dc74-01e6ce3d9ecc"
      },
      "source": [
        "batch_size = 128\n",
        "epochs = 15\n",
        "\n",
        "modelc.compile(loss=\"categorical_crossentropy\", optimizer=\"adam\", metrics=[\"accuracy\"])\n",
        "\n",
        "hc=modelc.fit(cc, y_train, batch_size=batch_size, epochs=epochs, validation_split=0.1)"
      ],
      "execution_count": null,
      "outputs": [
        {
          "output_type": "stream",
          "text": [
            "Epoch 1/15\n",
            "422/422 [==============================] - 42s 99ms/step - loss: 0.7752 - accuracy: 0.7535 - val_loss: 0.0831 - val_accuracy: 0.9773\n",
            "Epoch 2/15\n",
            "422/422 [==============================] - 41s 98ms/step - loss: 0.1237 - accuracy: 0.9629 - val_loss: 0.0547 - val_accuracy: 0.9863\n",
            "Epoch 3/15\n",
            "422/422 [==============================] - 41s 97ms/step - loss: 0.0861 - accuracy: 0.9731 - val_loss: 0.0526 - val_accuracy: 0.9852\n",
            "Epoch 4/15\n",
            "422/422 [==============================] - 41s 97ms/step - loss: 0.0748 - accuracy: 0.9767 - val_loss: 0.0433 - val_accuracy: 0.9888\n",
            "Epoch 5/15\n",
            "422/422 [==============================] - 41s 97ms/step - loss: 0.0615 - accuracy: 0.9810 - val_loss: 0.0402 - val_accuracy: 0.9893\n",
            "Epoch 6/15\n",
            "422/422 [==============================] - 41s 97ms/step - loss: 0.0575 - accuracy: 0.9824 - val_loss: 0.0368 - val_accuracy: 0.9905\n",
            "Epoch 7/15\n",
            "422/422 [==============================] - 41s 97ms/step - loss: 0.0488 - accuracy: 0.9845 - val_loss: 0.0368 - val_accuracy: 0.9907\n",
            "Epoch 8/15\n",
            "422/422 [==============================] - 41s 97ms/step - loss: 0.0491 - accuracy: 0.9850 - val_loss: 0.0393 - val_accuracy: 0.9902\n",
            "Epoch 9/15\n",
            "422/422 [==============================] - 41s 97ms/step - loss: 0.0472 - accuracy: 0.9854 - val_loss: 0.0327 - val_accuracy: 0.9907\n",
            "Epoch 10/15\n",
            "422/422 [==============================] - 41s 96ms/step - loss: 0.0436 - accuracy: 0.9864 - val_loss: 0.0309 - val_accuracy: 0.9922\n",
            "Epoch 11/15\n",
            "422/422 [==============================] - 41s 97ms/step - loss: 0.0415 - accuracy: 0.9860 - val_loss: 0.0309 - val_accuracy: 0.9922\n",
            "Epoch 12/15\n",
            "422/422 [==============================] - 41s 97ms/step - loss: 0.0358 - accuracy: 0.9890 - val_loss: 0.0310 - val_accuracy: 0.9927\n",
            "Epoch 13/15\n",
            "422/422 [==============================] - 41s 96ms/step - loss: 0.0379 - accuracy: 0.9875 - val_loss: 0.0313 - val_accuracy: 0.9920\n",
            "Epoch 14/15\n",
            "422/422 [==============================] - 41s 96ms/step - loss: 0.0318 - accuracy: 0.9897 - val_loss: 0.0298 - val_accuracy: 0.9923\n",
            "Epoch 15/15\n",
            "422/422 [==============================] - 41s 97ms/step - loss: 0.0332 - accuracy: 0.9894 - val_loss: 0.0294 - val_accuracy: 0.9925\n"
          ],
          "name": "stdout"
        }
      ]
    },
    {
      "cell_type": "code",
      "metadata": {
        "colab": {
          "base_uri": "https://localhost:8080/"
        },
        "id": "LuBanpTYi7EZ",
        "outputId": "e306edb0-c144-43dc-bfad-7d122511f488"
      },
      "source": [
        "scorec = modelc.evaluate(cct, y_test, verbose=0)\n",
        "print(\"Test loss:\", scorec[0])\n",
        "print(\"Test accuracy:\", scorec[1])"
      ],
      "execution_count": null,
      "outputs": [
        {
          "output_type": "stream",
          "text": [
            "Test loss: 0.022080114111304283\n",
            "Test accuracy: 0.9915000200271606\n"
          ],
          "name": "stdout"
        }
      ]
    },
    {
      "cell_type": "code",
      "metadata": {
        "colab": {
          "base_uri": "https://localhost:8080/"
        },
        "id": "TldueAMWW_u8",
        "outputId": "24f98653-0d1c-4e10-d4b1-958e632015ea"
      },
      "source": [
        "acn=hn.history[\"accuracy\"]\n",
        "acc=hc.history[\"accuracy\"]\n",
        "print(acn,acc)"
      ],
      "execution_count": null,
      "outputs": [
        {
          "output_type": "stream",
          "text": [
            "[0.8845555782318115, 0.9658703804016113, 0.9730555415153503, 0.9769814610481262, 0.9795185327529907, 0.9813703894615173, 0.983296275138855, 0.9838888645172119, 0.9854629635810852, 0.986037015914917, 0.98674076795578, 0.9873889088630676, 0.9878703951835632, 0.9880555272102356, 0.9887592792510986] [0.88355553150177, 0.9658148288726807, 0.9740740656852722, 0.9771666526794434, 0.9800370335578918, 0.9824629426002502, 0.9842963218688965, 0.9850000143051147, 0.9860000014305115, 0.9864259362220764, 0.9863148331642151, 0.9881666898727417, 0.9876111149787903, 0.9891852140426636, 0.9896296262741089]\n"
          ],
          "name": "stdout"
        }
      ]
    },
    {
      "cell_type": "markdown",
      "metadata": {
        "id": "qqb-cr0WoCgo"
      },
      "source": [
        "sadly the images are not very decisive"
      ]
    },
    {
      "cell_type": "code",
      "metadata": {
        "colab": {
          "base_uri": "https://localhost:8080/",
          "height": 265
        },
        "id": "jdtYHyAzZbLF",
        "outputId": "b9a6062a-94ca-4682-d23c-c1024d168ece"
      },
      "source": [
        "plt.plot(acn,label=\"normal training\")\n",
        "plt.plot(acc,label=\"anomaly infused\")\n",
        "plt.legend()\n",
        "plt.show()"
      ],
      "execution_count": null,
      "outputs": [
        {
          "output_type": "display_data",
          "data": {
            "image/png": "[encoded data removed]",
            "text/plain": [
              "<Figure size 432x288 with 1 Axes>"
            ]
          },
          "metadata": {
            "tags": [],
            "needs_background": "light"
          }
        }
      ]
    },
    {
      "cell_type": "code",
      "metadata": {
        "colab": {
          "base_uri": "https://localhost:8080/",
          "height": 265
        },
        "id": "-tw2kRLehPU8",
        "outputId": "df631bc5-4eca-45b7-f780-4c893f08c9c5"
      },
      "source": [
        "plt.plot([a-b for a,b in zip(acn,acc)])\n",
        "plt.show()"
      ],
      "execution_count": null,
      "outputs": [
        {
          "output_type": "display_data",
          "data": {
            "image/png": "[encoded data removed]",
            "text/plain": [
              "<Figure size 432x288 with 1 Axes>"
            ]
          },
          "metadata": {
            "tags": [],
            "needs_background": "light"
          }
        }
      ]
    },
    {
      "cell_type": "code",
      "metadata": {
        "colab": {
          "base_uri": "https://localhost:8080/"
        },
        "id": "2VhVx8uMhfh2",
        "outputId": "5bd353e4-f1e1-4437-dd20-4fbddad5d99c"
      },
      "source": [
        "lon=hn.history[\"loss\"]\n",
        "loc=hc.history[\"loss\"]\n",
        "print(lon,loc)"
      ],
      "execution_count": null,
      "outputs": [
        {
          "output_type": "stream",
          "text": [
            "[0.38034874200820923, 0.11531105637550354, 0.08818798512220383, 0.07244840264320374, 0.066450335085392, 0.05838476121425629, 0.05405930057168007, 0.05021515488624573, 0.04822038486599922, 0.043519843369722366, 0.040937114506959915, 0.0399254746735096, 0.03727494925260544, 0.03677528351545334, 0.03456687927246094] [0.375943660736084, 0.1138433888554573, 0.08528055995702744, 0.07405813783407211, 0.06319810450077057, 0.05529489368200302, 0.051552120596170425, 0.04898780956864357, 0.04488441348075867, 0.043606337159872055, 0.04166967421770096, 0.039148569107055664, 0.037865158170461655, 0.03336763381958008, 0.03344698250293732]\n"
          ],
          "name": "stdout"
        }
      ]
    },
    {
      "cell_type": "code",
      "metadata": {
        "colab": {
          "base_uri": "https://localhost:8080/",
          "height": 265
        },
        "id": "w1l5-xpBjRAT",
        "outputId": "a4fdb009-4a4c-49ce-b108-02eb32420315"
      },
      "source": [
        "plt.plot(lon,label=\"normal training\",alpha=0.5)\n",
        "plt.plot(loc,label=\"anomaly infused\",alpha=0.5)\n",
        "plt.legend()\n",
        "plt.yscale(\"log\")\n",
        "plt.show()"
      ],
      "execution_count": null,
      "outputs": [
        {
          "output_type": "display_data",
          "data": {
            "image/png": "[encoded data removed]",
            "text/plain": [
              "<Figure size 432x288 with 1 Axes>"
            ]
          },
          "metadata": {
            "tags": [],
            "needs_background": "light"
          }
        }
      ]
    },
    {
      "cell_type": "markdown",
      "metadata": {
        "id": "OsUAr3tJjlPF"
      },
      "source": [
        "Quick compare:"
      ]
    },
    {
      "cell_type": "code",
      "metadata": {
        "colab": {
          "base_uri": "https://localhost:8080/"
        },
        "id": "1qPlvXi2jZKd",
        "outputId": "9e554998-c5bc-4e62-9ece-9d86a25b2d85"
      },
      "source": [
        "print(\"without\",score)\n",
        "print(\"with   \",scorec)"
      ],
      "execution_count": null,
      "outputs": [
        {
          "output_type": "stream",
          "text": [
            "without [0.026425588876008987, 0.9900000095367432]\n",
            "with    [0.022080114111304283, 0.9915000200271606]\n"
          ],
          "name": "stdout"
        }
      ]
    },
    {
      "cell_type": "code",
      "metadata": {
        "colab": {
          "base_uri": "https://localhost:8080/"
        },
        "id": "6cTJQ33Ojs-L",
        "outputId": "364cb873-9ca0-4496-cdd8-9dc81ff6278f"
      },
      "source": [
        "print(\"both should be positive\")\n",
        "print(\"loss\",score[0]-scorec[0])\n",
        "print(\"acc\",scorec[1]-score[1])"
      ],
      "execution_count": null,
      "outputs": [
        {
          "output_type": "stream",
          "text": [
            "both should be positive\n",
            "loss 0.004345474764704704\n",
            "acc 0.0015000104904174805\n"
          ],
          "name": "stdout"
        }
      ]
    },
    {
      "cell_type": "markdown",
      "metadata": {
        "id": "0VY2FOf19IM_"
      },
      "source": [
        "Rerunning results in\n"
      ]
    },
    {
      "cell_type": "markdown",
      "metadata": {
        "id": "pHf-9pmp9LtX"
      },
      "source": [
        "both should be positive\n",
        "loss -0.0016080308705568314\n",
        "acc 0.00010001659393310547"
      ]
    },
    {
      "cell_type": "markdown",
      "metadata": {
        "id": "RhtvLoLl9L4c"
      },
      "source": [
        "both should be positive\n",
        "loss 0.00017721019685268402\n",
        "acc -0.000299990177154541"
      ]
    },
    {
      "cell_type": "markdown",
      "metadata": {
        "id": "sYrmvr669L8h"
      },
      "source": [
        "both should be positive\n",
        "loss 0.005704481154680252\n",
        "acc 0.00279998779296875"
      ]
    },
    {
      "cell_type": "markdown",
      "metadata": {
        "id": "f885N--P9MAI"
      },
      "source": [
        "both should be positive\n",
        "loss 0.0008180048316717148\n",
        "acc 0.000599980354309082"
      ]
    },
    {
      "cell_type": "markdown",
      "metadata": {
        "id": "zJ91-dbH9MD1"
      },
      "source": [
        "both should be positive\n",
        "loss 0.0008532833307981491\n",
        "acc -0.00010001659393310547"
      ]
    },
    {
      "cell_type": "markdown",
      "metadata": {
        "id": "A2whCbd91wNQ"
      },
      "source": [
        "both should be positive\n",
        "loss 0.0019453037530183792\n",
        "acc 0.0006000399589538574"
      ]
    },
    {
      "cell_type": "markdown",
      "metadata": {
        "id": "EsRaxCPi1wa5"
      },
      "source": [
        "both should be positive\n",
        "loss 0.005755022168159485\n",
        "acc 0.002200007438659668"
      ]
    },
    {
      "cell_type": "markdown",
      "metadata": {
        "id": "D9E4VA3j1wxW"
      },
      "source": [
        "both should be positive\n",
        "loss 3.5393983125686646e-05\n",
        "acc 0.00019997358322143555"
      ]
    },
    {
      "cell_type": "markdown",
      "metadata": {
        "id": "yFBwkbs81w9Q"
      },
      "source": [
        "both should be positive\n",
        "loss -0.0015629995614290237\n",
        "acc -0.000800013542175293"
      ]
    },
    {
      "cell_type": "markdown",
      "metadata": {
        "id": "ES0_a85x6l5H"
      },
      "source": [
        "14/20 >0, sigma~2, so about 2 sigma significance"
      ]
    },
    {
      "cell_type": "markdown",
      "metadata": {
        "id": "dTIMsxVDhKsF"
      },
      "source": [
        "Having done this quick and dirty, lets do this more proffesional:"
      ]
    },
    {
      "cell_type": "code",
      "metadata": {
        "id": "A2gxseLm17Ga"
      },
      "source": [
        "ll=[[0.02173512801527977,0.0233431588858366],\n",
        "    [0.023866165429353714,0.02368895523250103],\n",
        "    [0.0278194360435009,0.022114954888820648],\n",
        "    [0.023399805650115013,0.0225818008184433],\n",
        "    [0.025487083941698074,0.024633800610899925],\n",
        "    [0.02620108425617218,0.0242557805031538],\n",
        "    [0.027982046827673912,0.022227024659514427],\n",
        "    [0.026208026334643364,0.026172632351517677],\n",
        "    [0.023979149758815765,0.02554214932024479],\n",
        "    [0.026425588876008987,0.022080114111304283]]"
      ],
      "execution_count": 1,
      "outputs": []
    },
    {
      "cell_type": "markdown",
      "metadata": {
        "id": "8-HSfcPKidJr"
      },
      "source": [
        "I look only at losses, because there less random. First collumn: without, second with"
      ]
    },
    {
      "cell_type": "code",
      "metadata": {
        "colab": {
          "base_uri": "https://localhost:8080/"
        },
        "id": "fvZ3047miZqX",
        "outputId": "9d8071b6-3c95-43ed-d2a0-0c0893d78722"
      },
      "source": [
        "fr=len([1 for zw in ll if zw[0]>zw[1]])/len(ll)\n",
        "print(\"fraction of improvements\",fr)"
      ],
      "execution_count": 2,
      "outputs": [
        {
          "output_type": "stream",
          "text": [
            "fraction of improvements 0.8\n"
          ],
          "name": "stdout"
        }
      ]
    },
    {
      "cell_type": "code",
      "metadata": {
        "id": "JMIeivrbiwLA"
      },
      "source": [
        "ln=[zw[0] for zw in ll]\n",
        "lc=[zw[1] for zw in ll]\n",
        "\n",
        "import numpy as np\n",
        "mn=np.mean(ln)\n",
        "mc=np.mean(lc)\n",
        "sn=np.std(ln)/np.sqrt(len(ln))\n",
        "sc=np.std(lc)/np.sqrt(len(lc))\n"
      ],
      "execution_count": 4,
      "outputs": []
    },
    {
      "cell_type": "code",
      "metadata": {
        "colab": {
          "base_uri": "https://localhost:8080/"
        },
        "id": "t53Tp-qWjBGZ",
        "outputId": "47373d75-d4fe-435b-b611-0abcd2c7f5db"
      },
      "source": [
        "diff=mn-mc\n",
        "sigma=np.sqrt(sn**2+sc**2)\n",
        "print(\"Difference\",diff)\n",
        "print(\"With error\",sigma)\n",
        "print(\"This means a significance of\")\n",
        "print(diff/sigma)"
      ],
      "execution_count": 7,
      "outputs": [
        {
          "output_type": "stream",
          "text": [
            "Difference 0.0016463143751025214\n",
            "With error 0.0007480448084267025\n",
            "This means a significance of\n",
            "2.200823208124485\n"
          ],
          "name": "stdout"
        }
      ]
    },
    {
      "cell_type": "markdown",
      "metadata": {
        "id": "Yp1aYikWjQe8"
      },
      "source": [
        "So still about a 2 sigma improvement"
      ]
    },
    {
      "cell_type": "code",
      "metadata": {
        "id": "BKUm2tqBjNhk"
      },
      "source": [
        ""
      ],
      "execution_count": null,
      "outputs": []
    }
  ]
}